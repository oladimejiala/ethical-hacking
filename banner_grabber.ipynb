{
 "cells": [
  {
   "cell_type": "code",
   "execution_count": 3,
   "metadata": {},
   "outputs": [],
   "source": [
    "import socket\n",
    "\n",
    "def banner (ip, port):\n",
    "    s = socket.socket()\n",
    "    s.connect((ip, int(port)))\n",
    "    print(s.recv(1024)).strip('b')\n",
    "\n",
    "def main():\n",
    "    ip = input(\"please enter your ip address here: \")\n",
    "    port = str(input(\"please enter your port number heere: \"))\n",
    "    banner(ip,port)\n",
    "\n",
    "main()\n"
   ]
  }
 ],
 "metadata": {
  "kernelspec": {
   "display_name": "Python 3",
   "language": "python",
   "name": "python3"
  },
  "language_info": {
   "codemirror_mode": {
    "name": "ipython",
    "version": 3
   },
   "file_extension": ".py",
   "mimetype": "text/x-python",
   "name": "python",
   "nbconvert_exporter": "python",
   "pygments_lexer": "ipython3",
   "version": "3.12.2"
  }
 },
 "nbformat": 4,
 "nbformat_minor": 2
}
